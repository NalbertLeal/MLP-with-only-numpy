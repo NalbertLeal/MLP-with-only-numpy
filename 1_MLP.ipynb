{
  "nbformat": 4,
  "nbformat_minor": 0,
  "metadata": {
    "colab": {
      "provenance": []
    },
    "kernelspec": {
      "name": "python3",
      "display_name": "Python 3"
    },
    "language_info": {
      "name": "python"
    }
  },
  "cells": [
    {
      "cell_type": "code",
      "source": [
        "#  Many unecessary warnings may happen because of the np.exp function used on the\n",
        "# newral-network parameters to avoid this warning the code below is used to\n",
        "# ignore warning log\n",
        "\n",
        "import warnings\n",
        "\n",
        "# suppress warnings\n",
        "warnings.filterwarnings('ignore')"
      ],
      "metadata": {
        "id": "yD5ZI4SNr_ab"
      },
      "execution_count": 1,
      "outputs": []
    },
    {
      "cell_type": "code",
      "execution_count": 2,
      "metadata": {
        "id": "jJpGiE08eqka"
      },
      "outputs": [],
      "source": [
        "import math\n",
        "\n",
        "import numpy as np\n",
        "import pandas as pd\n",
        "from sklearn.datasets import fetch_openml\n",
        "import matplotlib.pyplot as plt\n",
        "\n",
        "%matplotlib inline"
      ]
    },
    {
      "cell_type": "code",
      "source": [
        "np.random.seed(7111996)"
      ],
      "metadata": {
        "id": "SKDZTP4Uekpk"
      },
      "execution_count": 3,
      "outputs": []
    },
    {
      "cell_type": "code",
      "source": [
        "# activation functions\n",
        "\n",
        "def ReLU(X):\n",
        "  return np.maximum(0, X)\n",
        "\n",
        "def leakyReLU(X):\n",
        "  return np.maximum(X * 0.01, X)\n",
        "\n",
        "def sigmoid(X):\n",
        "  return 1 / (1 + np.exp(-X))\n",
        "\n",
        "def tanh(X):\n",
        "  return np.tanh(X)\n",
        "\n",
        "def softmax(X):\n",
        "  exp = np.exp(X - np.max(X, axis=0, keepdims=True))\n",
        "  return exp / np.sum(exp, axis=0, keepdims=True)\n",
        "\n",
        "def ReLU_derivative(X):\n",
        "  return X > 0\n",
        "\n",
        "def sigmoid_derivative(X):\n",
        "  return X * (1 - X)\n",
        "\n",
        "def tanh_derivative(X):\n",
        "  return 1 - np.power(np.tanh(X), 2)\n",
        "\n",
        "def leakyReLU_derivative(X):\n",
        "  bigger_than_0 = X > 0\n",
        "  less_than_zero = X < 0\n",
        "\n",
        "  result = np.zeros_like(X)\n",
        "  result[bigger_than_0] = 1\n",
        "  result[less_than_zero] = 0.01\n",
        "\n",
        "  return result"
      ],
      "metadata": {
        "id": "ZiWNMkJIlYyO"
      },
      "execution_count": 4,
      "outputs": []
    },
    {
      "cell_type": "code",
      "source": [
        "# loss functions\n",
        "\n",
        "def rmse(y, y_hat):\n",
        "  squared_err = (y - y_hat) ** 2\n",
        "  mean = np.sum(squared_err) / squared_err.size\n",
        "  return np.sqrt(mean)\n",
        "\n",
        "def mse(y, y_hat):\n",
        "  squared_err = (y - y_hat) ** 2\n",
        "  return np.sum(squared_err) / squared_err.size\n",
        "\n",
        "def mae(y, y_hat):\n",
        "  abs_err = np.abs(y - y_hat)\n",
        "  return np.sum(abs_err) / abs_err.size"
      ],
      "metadata": {
        "id": "DhHZONX7lY24"
      },
      "execution_count": 5,
      "outputs": []
    },
    {
      "cell_type": "code",
      "source": [
        "# parameters functions\n",
        "\n",
        "def init_weights():\n",
        "  w1 = np.random.rand(30, 784) * 0.01\n",
        "  b1 = np.zeros((30, 1))\n",
        "\n",
        "  w2 = np.random.rand(10, 30) * 0.01\n",
        "  b2 = np.zeros((10, 1))\n",
        "\n",
        "  return w1, b1, w2, b2\n",
        "\n",
        "def forward(X, w1, b1, w2, b2):\n",
        "  z1 = w1.dot(X) + b1\n",
        "  a1 = leakyReLU(z1)\n",
        "\n",
        "  z2 = w2.dot(a1) + b2\n",
        "  a2 = softmax(z2)\n",
        "\n",
        "  return z1, a1, z2, a2\n",
        "\n",
        "def back_propagation(X, y, w2, z1, a1, a2):\n",
        "  m = X.shape[1]\n",
        "\n",
        "  y_ohe = one_hot_encode(y, 10)\n",
        "\n",
        "  dz2 = a2 - y_ohe\n",
        "  dw2 = 1 / m * dz2.dot(a1.T)\n",
        "  db2 = 1 / m * np.sum(dz2, axis=1, keepdims=True)\n",
        "\n",
        "  dz1 = w2.T.dot(dz2) * leakyReLU_derivative(z1)\n",
        "  dw1 = 1 / m * dz1.dot(X.T)\n",
        "  db1 = 1 / m * np.sum(dz1, axis=1, keepdims=True)\n",
        "\n",
        "  return dw1, db1, dw2, db2\n",
        "\n",
        "def update_weights(w1, b1, w2, b2, dw1, db1, dw2, db2, alpha=0.01):\n",
        "  w1 = w1 - alpha * dw1\n",
        "  b1 = b1 - alpha * db1\n",
        "\n",
        "  w2 = w2 - alpha * dw2\n",
        "  b2 = b2 - alpha * db2\n",
        "\n",
        "  return w1, b1, w2, b2\n",
        "\n",
        "def labels_from_predictions(preds):\n",
        "  return np.argmax(preds, axis=0)"
      ],
      "metadata": {
        "id": "Koa6kjQPlgRj"
      },
      "execution_count": 6,
      "outputs": []
    },
    {
      "cell_type": "code",
      "source": [
        "# metric functions\n",
        "\n",
        "def acuracy(y, y_hat):\n",
        "  return np.sum(y == y_hat) / y_hat.size"
      ],
      "metadata": {
        "id": "MIh76qidlY0u"
      },
      "execution_count": 7,
      "outputs": []
    },
    {
      "cell_type": "code",
      "source": [
        "# data manipulations functions\n",
        "\n",
        "def one_hot_encode(y, class_num):\n",
        "  encoded_arr = np.zeros((class_num, y.size))\n",
        "  encoded_arr[y, np.arange(y.size)] = 1\n",
        "  return encoded_arr"
      ],
      "metadata": {
        "id": "Y4mY13ZqlvMl"
      },
      "execution_count": 8,
      "outputs": []
    },
    {
      "cell_type": "code",
      "source": [
        "# alpha decay functions\n",
        "\n",
        "class ExponentialLearningRateDecay:\n",
        "  def __init__(self, init_lr=0.1, k=0.1):\n",
        "    self.lr = init_lr\n",
        "    self.init_lr = init_lr\n",
        "    self.k = 0.1\n",
        "\n",
        "  def __call__(self, alpha, epoch):\n",
        "    self.lr = self.init_lr * (2.71 ** (-self.k * epoch))\n",
        "    return self.lr\n",
        "\n",
        "class StepLearningRateDecay:\n",
        "  def __init__(self, init_lr=0.1, epochs_drop=10, drop=0.5):\n",
        "    self.lr = init_lr\n",
        "    self.init_lr = init_lr\n",
        "    self.epochs_drop = epochs_drop\n",
        "    self.drop = drop\n",
        "\n",
        "  def __call__(self, alpha, epoch):\n",
        "    self.lr = self.init_lr * self.drop ** math.floor(epoch / self.epochs_drop)\n",
        "    return self.lr"
      ],
      "metadata": {
        "id": "oE7jVuYwbWg3"
      },
      "execution_count": 9,
      "outputs": []
    },
    {
      "cell_type": "code",
      "source": [
        "# training functions\n",
        "\n",
        "basic_alpha_modifier = lambda x, i: x\n",
        "\n",
        "def train(x, y, x_val, y_val, alpha, epochs, alpha_modifier=basic_alpha_modifier):\n",
        "  acc = []\n",
        "  loss = []\n",
        "  epoch_alpha = alpha\n",
        "\n",
        "  w1, b1, w2, b2 = init_weights()\n",
        "  for epoch in range(epochs):\n",
        "    epoch_alpha = alpha_modifier(epoch_alpha, epoch)\n",
        "\n",
        "    z1, a1, z2, a2 = forward(x, w1, b1, w2, b2)\n",
        "    dw1, db1, dw2, db2 = back_propagation(x, y, w2, z1, a1, a2)\n",
        "    w1, b1, w2, b2 = update_weights(w1, b1, w2, b2, dw1, db1, dw2, db2, epoch_alpha)\n",
        "\n",
        "    _, _, _, a3_val = forward(x_val, w1, b1, w2, b2)\n",
        "\n",
        "    labels = labels_from_predictions(a3_val)\n",
        "    acc.append(acuracy(y_val, labels))\n",
        "    loss.append(mae(y_val, labels))\n",
        "\n",
        "    if epoch % 10 == 0:\n",
        "      print(f'Epoch: {epoch} | acc: {acc[-1]} | loss: {loss[-1]} | learning rate: {epoch_alpha}')\n",
        "\n",
        "  return w1, b1, w2, b2, acc, loss"
      ],
      "metadata": {
        "id": "Aro__77il2jl"
      },
      "execution_count": 10,
      "outputs": []
    },
    {
      "cell_type": "markdown",
      "source": [
        "## Importing dataset"
      ],
      "metadata": {
        "id": "AqeD85BYvTwe"
      }
    },
    {
      "cell_type": "code",
      "source": [
        "mnist = fetch_openml('mnist_784')"
      ],
      "metadata": {
        "id": "8AyHG5VqvWLe"
      },
      "execution_count": 11,
      "outputs": []
    },
    {
      "cell_type": "code",
      "source": [
        "mnist.keys()"
      ],
      "metadata": {
        "colab": {
          "base_uri": "https://localhost:8080/"
        },
        "id": "5tCVT5ESvYME",
        "outputId": "bf7a3ce0-932d-4c8e-86ee-88b7d90283ed"
      },
      "execution_count": 12,
      "outputs": [
        {
          "output_type": "execute_result",
          "data": {
            "text/plain": [
              "dict_keys(['data', 'target', 'frame', 'categories', 'feature_names', 'target_names', 'DESCR', 'details', 'url'])"
            ]
          },
          "metadata": {},
          "execution_count": 12
        }
      ]
    },
    {
      "cell_type": "code",
      "source": [
        "x = mnist.data\n",
        "y = mnist.target"
      ],
      "metadata": {
        "id": "xbHm4rd4zR1i"
      },
      "execution_count": 13,
      "outputs": []
    },
    {
      "cell_type": "code",
      "source": [
        "x.shape"
      ],
      "metadata": {
        "colab": {
          "base_uri": "https://localhost:8080/"
        },
        "id": "t2qez7fGzSxE",
        "outputId": "98f5c416-88df-4dfb-c9cc-17768b23cf2b"
      },
      "execution_count": 14,
      "outputs": [
        {
          "output_type": "execute_result",
          "data": {
            "text/plain": [
              "(70000, 784)"
            ]
          },
          "metadata": {},
          "execution_count": 14
        }
      ]
    },
    {
      "cell_type": "code",
      "source": [
        "X = x.to_numpy()"
      ],
      "metadata": {
        "id": "8ABXL8ayo03a"
      },
      "execution_count": 15,
      "outputs": []
    },
    {
      "cell_type": "code",
      "source": [
        "y.shape"
      ],
      "metadata": {
        "colab": {
          "base_uri": "https://localhost:8080/"
        },
        "id": "VVfhk5dizT9v",
        "outputId": "37cce239-4f5f-43c1-b133-108a88edda02"
      },
      "execution_count": 16,
      "outputs": [
        {
          "output_type": "execute_result",
          "data": {
            "text/plain": [
              "(70000,)"
            ]
          },
          "metadata": {},
          "execution_count": 16
        }
      ]
    },
    {
      "cell_type": "code",
      "source": [
        "y_ohe = one_hot_encode(y.astype(int), 10)"
      ],
      "metadata": {
        "id": "kNj0lqRdk-jg"
      },
      "execution_count": 17,
      "outputs": []
    },
    {
      "cell_type": "code",
      "source": [
        "y_ohe.shape"
      ],
      "metadata": {
        "colab": {
          "base_uri": "https://localhost:8080/"
        },
        "id": "t7YZoEpblQ9l",
        "outputId": "a2f7b7d9-6e72-4958-c725-9756d22d65b1"
      },
      "execution_count": 18,
      "outputs": [
        {
          "output_type": "execute_result",
          "data": {
            "text/plain": [
              "(10, 70000)"
            ]
          },
          "metadata": {},
          "execution_count": 18
        }
      ]
    },
    {
      "cell_type": "markdown",
      "source": [
        "## Implementing network"
      ],
      "metadata": {
        "id": "JbPwiQIPUqD_"
      }
    },
    {
      "cell_type": "code",
      "source": [
        "X_ = X.T / 255.\n",
        "y_int = y.to_numpy().astype(int)\n",
        "\n",
        "x_train = X_[:, 10000:]\n",
        "x_val = X_[:, :5000]\n",
        "x_test = X_[:, 5000:10000]\n",
        "\n",
        "y_train = y_int[10000:]\n",
        "y_val = y_int[:5000]\n",
        "y_test = y_int[5000:10000]"
      ],
      "metadata": {
        "id": "FaQjjgQdDBeg"
      },
      "execution_count": 19,
      "outputs": []
    },
    {
      "cell_type": "markdown",
      "source": [
        "## Train model with static learning rate"
      ],
      "metadata": {
        "id": "MWiZVX03vUGs"
      }
    },
    {
      "cell_type": "code",
      "source": [
        "w1, b1, w2, b2, acc, loss = train(x_train, y_train, x_val, y_val, 0.1, 500)"
      ],
      "metadata": {
        "colab": {
          "base_uri": "https://localhost:8080/"
        },
        "id": "7_k753c8SKW7",
        "outputId": "5f15c05e-d995-46d5-d597-8a61f685392b"
      },
      "execution_count": 23,
      "outputs": [
        {
          "output_type": "stream",
          "name": "stdout",
          "text": [
            "Epoch: 0 | acc: 0.0958 | loss: 4.465 | learning rate: 0.1\n",
            "Epoch: 10 | acc: 0.0958 | loss: 4.467 | learning rate: 0.1\n",
            "Epoch: 20 | acc: 0.0958 | loss: 4.4672 | learning rate: 0.1\n",
            "Epoch: 30 | acc: 0.1004 | loss: 4.4738 | learning rate: 0.1\n",
            "Epoch: 40 | acc: 0.1594 | loss: 4.3842 | learning rate: 0.1\n",
            "Epoch: 50 | acc: 0.206 | loss: 4.1486 | learning rate: 0.1\n",
            "Epoch: 60 | acc: 0.2586 | loss: 3.6664 | learning rate: 0.1\n",
            "Epoch: 70 | acc: 0.3198 | loss: 3.1232 | learning rate: 0.1\n",
            "Epoch: 80 | acc: 0.4168 | loss: 2.4486 | learning rate: 0.1\n",
            "Epoch: 90 | acc: 0.529 | loss: 1.8266 | learning rate: 0.1\n",
            "Epoch: 100 | acc: 0.5916 | loss: 1.5 | learning rate: 0.1\n",
            "Epoch: 110 | acc: 0.6228 | loss: 1.3436 | learning rate: 0.1\n",
            "Epoch: 120 | acc: 0.6544 | loss: 1.2284 | learning rate: 0.1\n",
            "Epoch: 130 | acc: 0.6928 | loss: 1.0922 | learning rate: 0.1\n",
            "Epoch: 140 | acc: 0.727 | loss: 0.9838 | learning rate: 0.1\n",
            "Epoch: 150 | acc: 0.7556 | loss: 0.8754 | learning rate: 0.1\n",
            "Epoch: 160 | acc: 0.773 | loss: 0.8224 | learning rate: 0.1\n",
            "Epoch: 170 | acc: 0.7868 | loss: 0.7724 | learning rate: 0.1\n",
            "Epoch: 180 | acc: 0.7992 | loss: 0.7294 | learning rate: 0.1\n",
            "Epoch: 190 | acc: 0.8106 | loss: 0.683 | learning rate: 0.1\n",
            "Epoch: 200 | acc: 0.8192 | loss: 0.6498 | learning rate: 0.1\n",
            "Epoch: 210 | acc: 0.8254 | loss: 0.6238 | learning rate: 0.1\n",
            "Epoch: 220 | acc: 0.8328 | loss: 0.5922 | learning rate: 0.1\n",
            "Epoch: 230 | acc: 0.8422 | loss: 0.5558 | learning rate: 0.1\n",
            "Epoch: 240 | acc: 0.849 | loss: 0.526 | learning rate: 0.1\n",
            "Epoch: 250 | acc: 0.8554 | loss: 0.5034 | learning rate: 0.1\n",
            "Epoch: 260 | acc: 0.8576 | loss: 0.4946 | learning rate: 0.1\n",
            "Epoch: 270 | acc: 0.8632 | loss: 0.4754 | learning rate: 0.1\n",
            "Epoch: 280 | acc: 0.865 | loss: 0.4664 | learning rate: 0.1\n",
            "Epoch: 290 | acc: 0.8676 | loss: 0.459 | learning rate: 0.1\n",
            "Epoch: 300 | acc: 0.8706 | loss: 0.4452 | learning rate: 0.1\n",
            "Epoch: 310 | acc: 0.874 | loss: 0.4318 | learning rate: 0.1\n",
            "Epoch: 320 | acc: 0.8766 | loss: 0.4228 | learning rate: 0.1\n",
            "Epoch: 330 | acc: 0.8778 | loss: 0.4176 | learning rate: 0.1\n",
            "Epoch: 340 | acc: 0.8802 | loss: 0.4094 | learning rate: 0.1\n",
            "Epoch: 350 | acc: 0.8826 | loss: 0.4006 | learning rate: 0.1\n",
            "Epoch: 360 | acc: 0.8858 | loss: 0.389 | learning rate: 0.1\n",
            "Epoch: 370 | acc: 0.8886 | loss: 0.3782 | learning rate: 0.1\n",
            "Epoch: 380 | acc: 0.8898 | loss: 0.3724 | learning rate: 0.1\n",
            "Epoch: 390 | acc: 0.8906 | loss: 0.3708 | learning rate: 0.1\n",
            "Epoch: 400 | acc: 0.8918 | loss: 0.3656 | learning rate: 0.1\n",
            "Epoch: 410 | acc: 0.8926 | loss: 0.3616 | learning rate: 0.1\n",
            "Epoch: 420 | acc: 0.8944 | loss: 0.3548 | learning rate: 0.1\n",
            "Epoch: 430 | acc: 0.896 | loss: 0.3488 | learning rate: 0.1\n",
            "Epoch: 440 | acc: 0.897 | loss: 0.3436 | learning rate: 0.1\n",
            "Epoch: 450 | acc: 0.8982 | loss: 0.3428 | learning rate: 0.1\n",
            "Epoch: 460 | acc: 0.8994 | loss: 0.3382 | learning rate: 0.1\n",
            "Epoch: 470 | acc: 0.9002 | loss: 0.3366 | learning rate: 0.1\n",
            "Epoch: 480 | acc: 0.9016 | loss: 0.3302 | learning rate: 0.1\n",
            "Epoch: 490 | acc: 0.902 | loss: 0.3296 | learning rate: 0.1\n"
          ]
        }
      ]
    },
    {
      "cell_type": "code",
      "source": [
        "plt.plot(range(0, 500), acc, 'r')\n",
        "plt.show()"
      ],
      "metadata": {
        "colab": {
          "base_uri": "https://localhost:8080/",
          "height": 430
        },
        "id": "zGNEm-_EOFh0",
        "outputId": "1545d432-886c-4c6a-e942-67798f24f7cf"
      },
      "execution_count": 25,
      "outputs": [
        {
          "output_type": "display_data",
          "data": {
            "text/plain": [
              "<Figure size 640x480 with 1 Axes>"
            ],
            "image/png": "[encoded data removed]"
          },
          "metadata": {}
        }
      ]
    },
    {
      "cell_type": "code",
      "source": [
        "plt.plot(range(0, 500), loss, 'b')\n",
        "plt.show()"
      ],
      "metadata": {
        "colab": {
          "base_uri": "https://localhost:8080/",
          "height": 430
        },
        "id": "Bi_MxZx6KRHa",
        "outputId": "1690b341-4460-4ffd-efa1-f24da2ff5e14"
      },
      "execution_count": 26,
      "outputs": [
        {
          "output_type": "display_data",
          "data": {
            "text/plain": [
              "<Figure size 640x480 with 1 Axes>"
            ],
            "image/png": "[encoded data removed]"
          },
          "metadata": {}
        }
      ]
    },
    {
      "cell_type": "code",
      "source": [
        "_, _, _, a2_test = forward(x_test, w1, b1, w2, b2)\n",
        "\n",
        "labels = labels_from_predictions(a2_test)\n",
        "print(acuracy(y_test, labels))\n",
        "print(mae(y_test, labels))"
      ],
      "metadata": {
        "colab": {
          "base_uri": "https://localhost:8080/"
        },
        "id": "XCwJH5-tY4HW",
        "outputId": "442dfb73-ffbd-4cf2-fec3-ff910c3b22de"
      },
      "execution_count": 27,
      "outputs": [
        {
          "output_type": "stream",
          "name": "stdout",
          "text": [
            "0.8932\n",
            "0.3966\n"
          ]
        }
      ]
    },
    {
      "cell_type": "markdown",
      "source": [
        "## Testing train with learning rate decay"
      ],
      "metadata": {
        "id": "T02brXoJvHtH"
      }
    },
    {
      "cell_type": "code",
      "source": [
        "decay = StepLearningRateDecay(drop=0.99, epochs_drop=50)"
      ],
      "metadata": {
        "id": "4K-ZNgr86xmt"
      },
      "execution_count": 32,
      "outputs": []
    },
    {
      "cell_type": "code",
      "source": [
        "w1_decay, b1_decay, w2_decay, b2_decay, acc_decay, loss_decay = train(x_train, y_train, x_val, y_val, 0.1, 500, alpha_modifier=decay)"
      ],
      "metadata": {
        "colab": {
          "base_uri": "https://localhost:8080/"
        },
        "id": "OcjpX_2dvM8o",
        "outputId": "882b18f1-a03c-4f93-b800-fe8d36ed9c08"
      },
      "execution_count": 33,
      "outputs": [
        {
          "output_type": "stream",
          "name": "stdout",
          "text": [
            "Epoch: 0 | acc: 0.0958 | loss: 4.467 | learning rate: 0.1\n",
            "Epoch: 10 | acc: 0.0958 | loss: 4.467 | learning rate: 0.1\n",
            "Epoch: 20 | acc: 0.0958 | loss: 4.4672 | learning rate: 0.1\n",
            "Epoch: 30 | acc: 0.1022 | loss: 4.4676 | learning rate: 0.1\n",
            "Epoch: 40 | acc: 0.1658 | loss: 4.3592 | learning rate: 0.1\n",
            "Epoch: 50 | acc: 0.2088 | loss: 4.1194 | learning rate: 0.099\n",
            "Epoch: 60 | acc: 0.245 | loss: 3.6858 | learning rate: 0.099\n",
            "Epoch: 70 | acc: 0.2916 | loss: 3.211 | learning rate: 0.099\n",
            "Epoch: 80 | acc: 0.3768 | loss: 2.576 | learning rate: 0.099\n",
            "Epoch: 90 | acc: 0.4956 | loss: 1.9402 | learning rate: 0.099\n",
            "Epoch: 100 | acc: 0.5838 | loss: 1.5418 | learning rate: 0.09801\n",
            "Epoch: 110 | acc: 0.6278 | loss: 1.3494 | learning rate: 0.09801\n",
            "Epoch: 120 | acc: 0.6596 | loss: 1.21 | learning rate: 0.09801\n",
            "Epoch: 130 | acc: 0.6898 | loss: 1.0934 | learning rate: 0.09801\n",
            "Epoch: 140 | acc: 0.7186 | loss: 1.008 | learning rate: 0.09801\n",
            "Epoch: 150 | acc: 0.7458 | loss: 0.911 | learning rate: 0.0970299\n",
            "Epoch: 160 | acc: 0.764 | loss: 0.857 | learning rate: 0.0970299\n",
            "Epoch: 170 | acc: 0.7764 | loss: 0.8218 | learning rate: 0.0970299\n",
            "Epoch: 180 | acc: 0.7904 | loss: 0.7664 | learning rate: 0.0970299\n",
            "Epoch: 190 | acc: 0.8032 | loss: 0.7122 | learning rate: 0.0970299\n",
            "Epoch: 200 | acc: 0.8148 | loss: 0.6698 | learning rate: 0.096059601\n",
            "Epoch: 210 | acc: 0.8254 | loss: 0.6268 | learning rate: 0.096059601\n",
            "Epoch: 220 | acc: 0.8324 | loss: 0.6002 | learning rate: 0.096059601\n",
            "Epoch: 230 | acc: 0.8396 | loss: 0.5672 | learning rate: 0.096059601\n",
            "Epoch: 240 | acc: 0.845 | loss: 0.5468 | learning rate: 0.096059601\n",
            "Epoch: 250 | acc: 0.8504 | loss: 0.5238 | learning rate: 0.09509900499\n",
            "Epoch: 260 | acc: 0.8544 | loss: 0.5058 | learning rate: 0.09509900499\n",
            "Epoch: 270 | acc: 0.8584 | loss: 0.4914 | learning rate: 0.09509900499\n",
            "Epoch: 280 | acc: 0.863 | loss: 0.4738 | learning rate: 0.09509900499\n",
            "Epoch: 290 | acc: 0.8662 | loss: 0.4612 | learning rate: 0.09509900499\n",
            "Epoch: 300 | acc: 0.868 | loss: 0.455 | learning rate: 0.0941480149401\n",
            "Epoch: 310 | acc: 0.8728 | loss: 0.4382 | learning rate: 0.0941480149401\n",
            "Epoch: 320 | acc: 0.8746 | loss: 0.4306 | learning rate: 0.0941480149401\n",
            "Epoch: 330 | acc: 0.8754 | loss: 0.429 | learning rate: 0.0941480149401\n",
            "Epoch: 340 | acc: 0.876 | loss: 0.4266 | learning rate: 0.0941480149401\n",
            "Epoch: 350 | acc: 0.8768 | loss: 0.4218 | learning rate: 0.093206534790699\n",
            "Epoch: 360 | acc: 0.8796 | loss: 0.414 | learning rate: 0.093206534790699\n",
            "Epoch: 370 | acc: 0.882 | loss: 0.4022 | learning rate: 0.093206534790699\n",
            "Epoch: 380 | acc: 0.884 | loss: 0.3932 | learning rate: 0.093206534790699\n",
            "Epoch: 390 | acc: 0.886 | loss: 0.3858 | learning rate: 0.093206534790699\n",
            "Epoch: 400 | acc: 0.8872 | loss: 0.3808 | learning rate: 0.09227446944279201\n",
            "Epoch: 410 | acc: 0.8886 | loss: 0.3756 | learning rate: 0.09227446944279201\n",
            "Epoch: 420 | acc: 0.8898 | loss: 0.3706 | learning rate: 0.09227446944279201\n",
            "Epoch: 430 | acc: 0.8914 | loss: 0.3636 | learning rate: 0.09227446944279201\n",
            "Epoch: 440 | acc: 0.8926 | loss: 0.3594 | learning rate: 0.09227446944279201\n",
            "Epoch: 450 | acc: 0.8942 | loss: 0.3502 | learning rate: 0.09135172474836409\n",
            "Epoch: 460 | acc: 0.8952 | loss: 0.3466 | learning rate: 0.09135172474836409\n",
            "Epoch: 470 | acc: 0.8962 | loss: 0.3452 | learning rate: 0.09135172474836409\n",
            "Epoch: 480 | acc: 0.8968 | loss: 0.3436 | learning rate: 0.09135172474836409\n",
            "Epoch: 490 | acc: 0.8976 | loss: 0.3414 | learning rate: 0.09135172474836409\n"
          ]
        }
      ]
    },
    {
      "cell_type": "code",
      "source": [
        "plt.plot(range(0, 500), acc_decay, 'r')\n",
        "plt.show()"
      ],
      "metadata": {
        "colab": {
          "base_uri": "https://localhost:8080/",
          "height": 430
        },
        "id": "zlbiw5yevM8p",
        "outputId": "d4025a52-eacd-4790-865b-656144362162"
      },
      "execution_count": 34,
      "outputs": [
        {
          "output_type": "display_data",
          "data": {
            "text/plain": [
              "<Figure size 640x480 with 1 Axes>"
            ],
            "image/png": "[encoded data removed]"
          },
          "metadata": {}
        }
      ]
    },
    {
      "cell_type": "code",
      "source": [
        "plt.plot(range(0, 500), loss_decay, 'b')\n",
        "plt.show()"
      ],
      "metadata": {
        "colab": {
          "base_uri": "https://localhost:8080/",
          "height": 430
        },
        "id": "3nI0ImHcvM8p",
        "outputId": "f913b20f-2e13-4ec8-c9f0-ef6e97b6c31f"
      },
      "execution_count": 35,
      "outputs": [
        {
          "output_type": "display_data",
          "data": {
            "text/plain": [
              "<Figure size 640x480 with 1 Axes>"
            ],
            "image/png": "[encoded data removed]"
          },
          "metadata": {}
        }
      ]
    },
    {
      "cell_type": "code",
      "source": [
        "_, _, _, a2_test = forward(x_test, w1_decay, b1_decay, w2_decay, b2_decay)\n",
        "\n",
        "labels = labels_from_predictions(a2_test)\n",
        "print(acuracy(y_test, labels))\n",
        "print(mae(y_test, labels))"
      ],
      "metadata": {
        "colab": {
          "base_uri": "https://localhost:8080/"
        },
        "outputId": "60ca3383-7d66-43ec-bc8b-b45ff841106d",
        "id": "1HtRIAZXvM8p"
      },
      "execution_count": 36,
      "outputs": [
        {
          "output_type": "stream",
          "name": "stdout",
          "text": [
            "0.8924\n",
            "0.3888\n"
          ]
        }
      ]
    },
    {
      "cell_type": "markdown",
      "source": [
        "## Showing the images and predictions of test set"
      ],
      "metadata": {
        "id": "1YLHWoTyaF88"
      }
    },
    {
      "cell_type": "markdown",
      "source": [
        "Example 1:"
      ],
      "metadata": {
        "id": "jSFzONA9DmsW"
      }
    },
    {
      "cell_type": "code",
      "source": [
        "img = x_test.T[0].reshape((784, 1))\n",
        "\n",
        "_, _, _, a2_test = forward(img, w1, b1, w2, b2)\n",
        "\n",
        "labels_from_predictions(a2_test)"
      ],
      "metadata": {
        "colab": {
          "base_uri": "https://localhost:8080/"
        },
        "outputId": "818d23f6-cc00-47b7-9585-a9b324c93075",
        "id": "4X2vnbAbadEP"
      },
      "execution_count": 37,
      "outputs": [
        {
          "output_type": "execute_result",
          "data": {
            "text/plain": [
              "array([7])"
            ]
          },
          "metadata": {},
          "execution_count": 37
        }
      ]
    },
    {
      "cell_type": "code",
      "source": [
        "y_test[0]"
      ],
      "metadata": {
        "colab": {
          "base_uri": "https://localhost:8080/"
        },
        "id": "tHR_ra9hbBYt",
        "outputId": "7979c4d0-3732-4ee9-dd81-004808119d31"
      },
      "execution_count": 116,
      "outputs": [
        {
          "output_type": "execute_result",
          "data": {
            "text/plain": [
              "7"
            ]
          },
          "metadata": {},
          "execution_count": 116
        }
      ]
    },
    {
      "cell_type": "code",
      "source": [
        "import matplotlib.image as mpimg\n",
        "\n",
        "plt.figure()\n",
        "imgplot = plt.imshow(x_test.T[0].reshape((28, 28, 1)))\n",
        "plt.show()"
      ],
      "metadata": {
        "colab": {
          "base_uri": "https://localhost:8080/",
          "height": 430
        },
        "outputId": "07e00e12-281b-48bd-d078-e2f9bf621fba",
        "id": "g00izOhkadEQ"
      },
      "execution_count": 38,
      "outputs": [
        {
          "output_type": "display_data",
          "data": {
            "text/plain": [
              "<Figure size 640x480 with 1 Axes>"
            ],
            "image/png": "[encoded data removed]"
          },
          "metadata": {}
        }
      ]
    },
    {
      "cell_type": "markdown",
      "source": [
        "Example 2:"
      ],
      "metadata": {
        "id": "tN8ysNDoDkOX"
      }
    },
    {
      "cell_type": "code",
      "source": [
        "img = x_test.T[2].reshape((784, 1))\n",
        "\n",
        "_, _, _, a2_test = forward(img, w1, b1, w2, b2)\n",
        "\n",
        "labels_from_predictions(a2_test)"
      ],
      "metadata": {
        "colab": {
          "base_uri": "https://localhost:8080/"
        },
        "outputId": "c19c6d9a-dbef-450e-f6ac-e3849e4d9c19",
        "id": "PSZkEexjajY7"
      },
      "execution_count": 39,
      "outputs": [
        {
          "output_type": "execute_result",
          "data": {
            "text/plain": [
              "array([9])"
            ]
          },
          "metadata": {},
          "execution_count": 39
        }
      ]
    },
    {
      "cell_type": "code",
      "source": [
        "y_test[2]"
      ],
      "metadata": {
        "colab": {
          "base_uri": "https://localhost:8080/"
        },
        "id": "Qj8whktzaouQ",
        "outputId": "4b7a8129-5c11-48fc-86d8-32a2079249f5"
      },
      "execution_count": 41,
      "outputs": [
        {
          "output_type": "execute_result",
          "data": {
            "text/plain": [
              "4"
            ]
          },
          "metadata": {},
          "execution_count": 41
        }
      ]
    },
    {
      "cell_type": "code",
      "source": [
        "import matplotlib.image as mpimg\n",
        "\n",
        "plt.figure()\n",
        "imgplot = plt.imshow(x_test.T[2].reshape((28, 28, 1)))\n",
        "plt.show()"
      ],
      "metadata": {
        "colab": {
          "base_uri": "https://localhost:8080/",
          "height": 430
        },
        "outputId": "da9c8c9d-5fbf-42e4-cdb6-38d474179daa",
        "id": "A_E7WMAxajY8"
      },
      "execution_count": 40,
      "outputs": [
        {
          "output_type": "display_data",
          "data": {
            "text/plain": [
              "<Figure size 640x480 with 1 Axes>"
            ],
            "image/png": "[encoded data removed]"
          },
          "metadata": {}
        }
      ]
    },
    {
      "cell_type": "markdown",
      "source": [
        "Example 3:"
      ],
      "metadata": {
        "id": "yEoq1hkMDrL7"
      }
    },
    {
      "cell_type": "code",
      "source": [
        "img = x_test.T[3].reshape((784, 1))\n",
        "\n",
        "_, _, _, a2_test = forward(img, w1, b1, w2, b2)\n",
        "\n",
        "labels_from_predictions(a2_test)"
      ],
      "metadata": {
        "colab": {
          "base_uri": "https://localhost:8080/"
        },
        "id": "65HMzY0VZUM5",
        "outputId": "dec71584-05d5-460e-8e1d-be96f0245484"
      },
      "execution_count": 42,
      "outputs": [
        {
          "output_type": "execute_result",
          "data": {
            "text/plain": [
              "array([6])"
            ]
          },
          "metadata": {},
          "execution_count": 42
        }
      ]
    },
    {
      "cell_type": "code",
      "source": [
        "y_test[3]"
      ],
      "metadata": {
        "colab": {
          "base_uri": "https://localhost:8080/"
        },
        "id": "fZ2fH2Q7aU3s",
        "outputId": "705d47c4-0a89-4068-8776-21b4365bb682"
      },
      "execution_count": 43,
      "outputs": [
        {
          "output_type": "execute_result",
          "data": {
            "text/plain": [
              "6"
            ]
          },
          "metadata": {},
          "execution_count": 43
        }
      ]
    },
    {
      "cell_type": "code",
      "source": [
        "import matplotlib.image as mpimg\n",
        "\n",
        "plt.figure()\n",
        "imgplot = plt.imshow(x_test.T[3].reshape((28, 28, 1)))\n",
        "plt.show()"
      ],
      "metadata": {
        "colab": {
          "base_uri": "https://localhost:8080/",
          "height": 430
        },
        "id": "uDpeLe0LYGuM",
        "outputId": "b0a08720-c453-442a-8f6d-6cadec371e53"
      },
      "execution_count": 44,
      "outputs": [
        {
          "output_type": "display_data",
          "data": {
            "text/plain": [
              "<Figure size 640x480 with 1 Axes>"
            ],
            "image/png": "[encoded data removed]"
          },
          "metadata": {}
        }
      ]
    }
  ]
}